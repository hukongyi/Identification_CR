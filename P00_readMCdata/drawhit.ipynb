{
 "cells": [
  {
   "cell_type": "code",
   "execution_count": 1,
   "metadata": {},
   "outputs": [],
   "source": [
    "import numpy as np\n",
    "import matplotlib.pyplot as plt\n",
    "from matplotlib import cm"
   ]
  },
  {
   "cell_type": "code",
   "execution_count": 2,
   "metadata": {},
   "outputs": [
    {
     "name": "stdout",
     "output_type": "stream",
     "text": [
      "pri_e_num\n",
      "pri_id\n",
      "pri_e\n",
      "pri_theta\n",
      "pri_phi\n",
      "pri_ne\n",
      "pri_core_x\n",
      "pri_core_y\n",
      "pri_sump\n",
      "pri_n_hit\n",
      "Tibetevent\n",
      "Tibet\n",
      "MDevent\n",
      "MD\n"
     ]
    }
   ],
   "source": [
    "datapath = '/home/hky/Data/chenxu/MCmodelBany4.npz'\n",
    "\n",
    "data = np.load(datapath)\n",
    "for i in data.keys():\n",
    "    print(i)"
   ]
  },
  {
   "cell_type": "code",
   "execution_count": 3,
   "metadata": {},
   "outputs": [],
   "source": [
    "pri_e_num = data['pri_e_num']\n",
    "pri_id = data['pri_id']\n",
    "pri_e = data['pri_e']\n",
    "pri_theta = data['pri_theta']\n",
    "pri_phi = data['pri_phi']\n",
    "pri_ne = data['pri_ne']\n",
    "pri_core_x = data['pri_core_x']\n",
    "pri_core_y = data['pri_core_y']\n",
    "pri_sump = data['pri_sump']\n",
    "pri_n_hit = data['pri_n_hit']\n",
    "Tibetevent = data['Tibetevent']\n",
    "Tibet = data['Tibet']\n",
    "MDevent = data['MDevent']\n",
    "MD = data['MD']"
   ]
  },
  {
   "cell_type": "code",
   "execution_count": 4,
   "metadata": {},
   "outputs": [],
   "source": [
    "calibfile = \"/home/hky/for_mengy3/src16_1.8/userfile/mccaliblmzhai_20190312.cal\"\n",
    "detid = list()\n",
    "x = list()\n",
    "y = list()\n",
    "z = list()\n",
    "\n",
    "with open(calibfile, \"r\") as f:\n",
    "    for line in f:\n",
    "        detid.append(int(line.split()[0]))\n",
    "        x.append(float(line.split()[1]))\n",
    "        y.append(float(line.split()[2]))\n",
    "        z.append(float(line.split()[3]))\n",
    "detid = np.array(detid)\n",
    "x = np.array(x)\n",
    "y = np.array(y)\n",
    "z = np.array(z)"
   ]
  },
  {
   "cell_type": "code",
   "execution_count": 5,
   "metadata": {},
   "outputs": [],
   "source": [
    "ind = int(np.argpartition(pri_n_hit, -1)[-1:])"
   ]
  },
  {
   "cell_type": "code",
   "execution_count": 6,
   "metadata": {},
   "outputs": [],
   "source": [
    "goodevent = list()\n",
    "count = 0\n",
    "for i in range(pri_id.shape[0]):\n",
    "    if (-50 < pri_core_x[i] < 50) and (-50 < pri_core_y[i] < 50) and (pri_n_hit[i] > 300):\n",
    "        goodevent.append(i)\n",
    "        count += 1\n",
    "        # if count == 100:\n",
    "        #     break"
   ]
  },
  {
   "cell_type": "code",
   "execution_count": 7,
   "metadata": {},
   "outputs": [
    {
     "data": {
      "text/plain": [
       "769"
      ]
     },
     "execution_count": 7,
     "metadata": {},
     "output_type": "execute_result"
    }
   ],
   "source": [
    "len(goodevent)"
   ]
  },
  {
   "cell_type": "code",
   "execution_count": 8,
   "metadata": {},
   "outputs": [],
   "source": [
    "for ind in goodevent:\n",
    "    plt.figure(figsize=(40, 16))\n",
    "    plt.subplot(1,2,1)\n",
    "    Tibet_location_x = x[:996]\n",
    "    Tibet_location_y = y[:996]\n",
    "    Tibet_c = np.zeros(996)\n",
    "    Tibet_s = np.ones(996)\n",
    "    time = list()\n",
    "    for i in Tibet[int(Tibetevent[ind]):int(Tibetevent[ind + 1]), :]:\n",
    "        if i[0] == ind:\n",
    "            if (i[3] <= 300) and (i[3] >= -300) and (i[2] > 0.6):\n",
    "                Tibet_c[int(i[1])] = i[3]\n",
    "                Tibet_s[int(i[1])] += np.log(i[2] / 0.6)\n",
    "                time.append(i[3])\n",
    "    Tibet_location_x = np.concatenate([[0], x[:996][np.where(x[:996] != 0)]])\n",
    "    Tibet_location_y = np.concatenate([[0], y[:996][np.where(x[:996] != 0)]])\n",
    "    Tibet_c = np.concatenate([[Tibet_c[0]], Tibet_c[np.where(x[:996] != 0)]])\n",
    "    Tibet_s = np.concatenate([[Tibet_s[0]], Tibet_s[np.where(x[:996] != 0)]])\n",
    "\n",
    "    cmap = cm.YlOrRd\n",
    "    plt.scatter(Tibet_location_x[np.where(Tibet_c != 0)],\n",
    "                Tibet_location_y[np.where(Tibet_c != 0)],\n",
    "                s=Tibet_s[np.where(Tibet_c != 0)] * 50,\n",
    "                c=Tibet_c[np.where(Tibet_c != 0)],\n",
    "                cmap=cmap,\n",
    "                # alpha=4 / 5,\n",
    "                )\n",
    "                \n",
    "    plt.clim(-300, 300)\n",
    "    plt.colorbar()\n",
    "    plt.scatter(Tibet_location_x[np.where(Tibet_c == 0)],\n",
    "                Tibet_location_y[np.where(Tibet_c == 0)],\n",
    "                s=10,\n",
    "                c='g',\n",
    "                # alpha=4 / 5,\n",
    "                )\n",
    "    plt.scatter(pri_core_x[ind], pri_core_y[ind], marker='X', s=100, linewidths=1)\n",
    "    arrowlength = 60\n",
    "    plt.arrow(pri_core_x[ind] - arrowlength * np.cos(pri_phi[ind] + np.deg2rad(90 - 17.97)),\n",
    "              pri_core_y[ind] - arrowlength * np.sin(pri_phi[ind] + np.deg2rad(90 - 17.97)),\n",
    "              (arrowlength - 5) * np.cos(pri_phi[ind] + np.deg2rad(90 - 17.97)),\n",
    "              (arrowlength - 5) * np.sin(pri_phi[ind] + np.deg2rad(90 - 17.97)),\n",
    "              head_width=3,\n",
    "              fc='b',\n",
    "              ec='b')\n",
    "\n",
    "    plt.xlim(-150,150)\n",
    "    plt.ylim(-150,150)\n",
    "    plt.xlabel('x/m')\n",
    "    plt.ylabel('y/m')\n",
    "    # plt.show()\n",
    "    \n",
    "    plt.subplot(1,2,2)\n",
    "\n",
    "    MD_location_x = list()\n",
    "    MD_location_y = list()\n",
    "    MD_c = list()\n",
    "    MD_tmp = np.zeros([4*16*4])\n",
    "    for i in MD[int(MDevent[ind]):int(MDevent[ind + 1]), :]:\n",
    "        MD_tmp[int(i[1])] = i[2]\n",
    "    MD_tmp = MD_tmp.reshape(4,16,4)\n",
    "\n",
    "    for i in range(4):\n",
    "        for j in range(16):\n",
    "            MD_c.append(MD_tmp[i,j,0])\n",
    "            MD_location_x.append(x[(i+1)*1000+j*10])\n",
    "            MD_location_y.append(y[(i+1)*1000+j*10])\n",
    "\n",
    "    \n",
    "    # plt.figure(figsize=(20, 16))\n",
    "    \n",
    "    cmapMD = cm.cool\n",
    "    \n",
    "    plt.scatter(\n",
    "        MD_location_x,\n",
    "        MD_location_y,\n",
    "        c=MD_c,\n",
    "        cmap=cmapMD,\n",
    "        # edgecolors='b',\n",
    "        linewidths=0.8,\n",
    "        s=100,\n",
    "        # alpha=0.5\n",
    "    )\n",
    "    # plt.clim(-3000, 3000)\n",
    "    plt.colorbar()\n",
    "\n",
    "    plt.scatter(pri_core_x[ind], pri_core_y[ind], marker='X', s=100, linewidths=1)\n",
    "    arrowlength = 60\n",
    "    plt.arrow(pri_core_x[ind] - arrowlength * np.cos(pri_phi[ind] + np.deg2rad(90 - 17.97)),\n",
    "              pri_core_y[ind] - arrowlength * np.sin(pri_phi[ind] + np.deg2rad(90 - 17.97)),\n",
    "              (arrowlength - 5) * np.cos(pri_phi[ind] + np.deg2rad(90 - 17.97)),\n",
    "              (arrowlength - 5) * np.sin(pri_phi[ind] + np.deg2rad(90 - 17.97)),\n",
    "              head_width=3,\n",
    "              fc='b',\n",
    "              ec='b')\n",
    "    plt.xlim(-150,150)\n",
    "    plt.ylim(-150,150)\n",
    "    plt.xlabel('x/m')\n",
    "    plt.ylabel('y/m')\n",
    "\n",
    "    plt.text(50,\n",
    "    140,\n",
    "    f'Energy: {pri_e[ind]/1000:5.2f} TeV\\n'\n",
    "    f'id: {pri_id[ind]}\\n'\n",
    "    f'theta: {np.rad2deg(pri_theta[ind]):5.2f} degree\\n'\n",
    "    f'phi: {np.rad2deg(pri_phi[ind]+ np.deg2rad(90 - 17.97)):5.2f} degree\\n'\n",
    "    f'ne: {pri_ne[ind]}',\n",
    "    fontsize=20,\n",
    "    verticalalignment=\"top\",\n",
    "    horizontalalignment=\"left\"\n",
    ")\n",
    "\n",
    "    # print('theta', np.rad2deg(pri_theta[ind]), 'phi', np.rad2deg(pri_phi[ind]) + 90 - 17.97)\n",
    "    plt.savefig(f'/home/hky/github/Identification_CR/P00_readMCdata/fig/{pri_id[ind]}_{int(pri_e[ind]/1000)}_event{ind}.png')\n",
    "    plt.close()\n"
   ]
  },
  {
   "cell_type": "code",
   "execution_count": null,
   "metadata": {},
   "outputs": [],
   "source": []
  }
 ],
 "metadata": {
  "kernelspec": {
   "display_name": "Python [conda env:pyg]",
   "language": "python",
   "name": "conda-env-pyg-py"
  },
  "language_info": {
   "codemirror_mode": {
    "name": "ipython",
    "version": 3
   },
   "file_extension": ".py",
   "mimetype": "text/x-python",
   "name": "python",
   "nbconvert_exporter": "python",
   "pygments_lexer": "ipython3",
   "version": "3.10.5"
  },
  "vscode": {
   "interpreter": {
    "hash": "769e11fabf5d47335b59aad0a5bf7b34668627aaf5b78ddd2bc85405a8e217e2"
   }
  }
 },
 "nbformat": 4,
 "nbformat_minor": 2
}
